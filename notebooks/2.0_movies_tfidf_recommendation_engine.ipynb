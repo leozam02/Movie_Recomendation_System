{
 "cells": [
  {
   "cell_type": "markdown",
   "id": "98749d3e",
   "metadata": {},
   "source": [
    "# 2.0 - Motor de Recomendación Basado en Contenido (TF-IDF)\n",
    "\n",
    "Este notebook implementa un sistema que recomienda películas similares a una dada, usando solo su sinopsis (`overview`). \n",
    "\n",
    "Técnicas utilizadas:\n",
    "- TF-IDF (Term Frequency - Inverse Document Frequency)\n",
    "- Similitud coseno\n"
   ]
  },
  {
   "cell_type": "code",
   "execution_count": 11,
   "id": "2dd568a8",
   "metadata": {},
   "outputs": [],
   "source": [
    "import pandas as pd\n",
    "from sklearn.feature_extraction.text import TfidfVectorizer\n",
    "from sklearn.metrics.pairwise import cosine_similarity\n",
    "\n",
    "# Cargar dataset limpio\n",
    "df = pd.read_csv('../data/clean_movies.csv')\n",
    "\n",
    "# Nos aseguramos de que no haya valores nulos en 'overview'\n",
    "df = df.dropna(subset=['overview']).reset_index(drop=True)\n"
   ]
  },
  {
   "cell_type": "markdown",
   "id": "7026d158",
   "metadata": {},
   "source": [
    "## 🔠 Vectorización TF-IDF\n",
    "\n",
    "Usamos `TfidfVectorizer` de scikit-learn para convertir las sinopsis a vectores numéricos. Este paso es clave para transformar texto en datos comparables entre películas.\n",
    " "
   ]
  },
  {
   "cell_type": "code",
   "execution_count": 12,
   "id": "32e27210",
   "metadata": {},
   "outputs": [
    {
     "name": "stdout",
     "output_type": "stream",
     "text": [
      "Matriz TF-IDF generada. Dimensiones: (4806, 20978)\n"
     ]
    }
   ],
   "source": [
    "# Crear el modelo TF-IDF\n",
    "tfidf = TfidfVectorizer(stop_words='english')\n",
    "\n",
    "# Aplicar vectorización sobre las sinopsis\n",
    "tfidf_matrix = tfidf.fit_transform(df['overview'])\n",
    "\n",
    "print(\"Matriz TF-IDF generada. Dimensiones:\", tfidf_matrix.shape)\n"
   ]
  },
  {
   "cell_type": "code",
   "execution_count": 13,
   "id": "bb10ede1",
   "metadata": {},
   "outputs": [],
   "source": [
    "# Calcular la similitud entre todas las películas\n",
    "cosine_sim = cosine_similarity(tfidf_matrix, tfidf_matrix)\n"
   ]
  },
  {
   "cell_type": "markdown",
   "id": "f9ab7c4a",
   "metadata": {},
   "source": [
    "La matriz de similitud se genera con `cosine_similarity`, que compara los vectores TF-IDF para detectar qué películas se parecen entre sí.\n"
   ]
  },
  {
   "cell_type": "code",
   "execution_count": 14,
   "id": "686afe73",
   "metadata": {},
   "outputs": [],
   "source": [
    "# Crear un mapeo: título en minúsculas → índice\n",
    "title_indices = pd.Series(df.index, index=df['title'].str.lower())\n",
    " "
   ]
  },
  {
   "cell_type": "code",
   "execution_count": 15,
   "id": "93fb9d8c",
   "metadata": {},
   "outputs": [],
   "source": [
    "def show_recommendations(title, df=df, sim_matrix=cosine_sim, indices=title_indices):\n",
    "    title = title.lower()\n",
    "    if title not in indices:\n",
    "        return pd.DataFrame({'Recomendaciones': [\"Película no encontrada\"]})\n",
    "    \n",
    "    idx = indices[title]\n",
    "    sim_scores = list(enumerate(sim_matrix[idx]))\n",
    "    sim_scores = sorted(sim_scores, key=lambda x: x[1], reverse=True)[1:6]\n",
    "    movie_indices = [i[0] for i in sim_scores]\n",
    "    \n",
    "    recs = df.iloc[movie_indices][['title', 'overview']]\n",
    "    recs = recs.rename(columns={'title': '🎬 Título recomendado', 'overview': '📝 Sinopsis'})\n",
    "    return recs\n",
    "\n"
   ]
  },
  {
   "cell_type": "code",
   "execution_count": 16,
   "id": "ca83d6a5",
   "metadata": {},
   "outputs": [
    {
     "name": "stdout",
     "output_type": "stream",
     "text": [
      "🔎 5 recomendaciones encontradas:\n"
     ]
    },
    {
     "data": {
      "text/html": [
       "<div>\n",
       "<style scoped>\n",
       "    .dataframe tbody tr th:only-of-type {\n",
       "        vertical-align: middle;\n",
       "    }\n",
       "\n",
       "    .dataframe tbody tr th {\n",
       "        vertical-align: top;\n",
       "    }\n",
       "\n",
       "    .dataframe thead th {\n",
       "        text-align: right;\n",
       "    }\n",
       "</style>\n",
       "<table border=\"1\" class=\"dataframe\">\n",
       "  <thead>\n",
       "    <tr style=\"text-align: right;\">\n",
       "      <th></th>\n",
       "      <th>🎬 Título recomendado</th>\n",
       "      <th>📝 Sinopsis</th>\n",
       "    </tr>\n",
       "  </thead>\n",
       "  <tbody>\n",
       "    <tr>\n",
       "      <th>3</th>\n",
       "      <td>The Dark Knight Rises</td>\n",
       "      <td>Following the death of District Attorney Harve...</td>\n",
       "    </tr>\n",
       "    <tr>\n",
       "      <th>428</th>\n",
       "      <td>Batman Returns</td>\n",
       "      <td>Having defeated the Joker, Batman now faces th...</td>\n",
       "    </tr>\n",
       "    <tr>\n",
       "      <th>3858</th>\n",
       "      <td>Batman: The Dark Knight Returns, Part 2</td>\n",
       "      <td>Batman has stopped the reign of terror that Th...</td>\n",
       "    </tr>\n",
       "    <tr>\n",
       "      <th>299</th>\n",
       "      <td>Batman Forever</td>\n",
       "      <td>The Dark Knight of Gotham City confronts a das...</td>\n",
       "    </tr>\n",
       "    <tr>\n",
       "      <th>1360</th>\n",
       "      <td>Batman</td>\n",
       "      <td>The Dark Knight of Gotham City begins his war ...</td>\n",
       "    </tr>\n",
       "  </tbody>\n",
       "</table>\n",
       "</div>"
      ],
      "text/plain": [
       "                         🎬 Título recomendado  \\\n",
       "3                       The Dark Knight Rises   \n",
       "428                            Batman Returns   \n",
       "3858  Batman: The Dark Knight Returns, Part 2   \n",
       "299                            Batman Forever   \n",
       "1360                                   Batman   \n",
       "\n",
       "                                             📝 Sinopsis  \n",
       "3     Following the death of District Attorney Harve...  \n",
       "428   Having defeated the Joker, Batman now faces th...  \n",
       "3858  Batman has stopped the reign of terror that Th...  \n",
       "299   The Dark Knight of Gotham City confronts a das...  \n",
       "1360  The Dark Knight of Gotham City begins his war ...  "
      ]
     },
     "execution_count": 16,
     "metadata": {},
     "output_type": "execute_result"
    }
   ],
   "source": [
    "recomendaciones = show_recommendations(\"The Dark Knight\")\n",
    "print(f\"🔎 {len(recomendaciones)} recomendaciones encontradas:\")\n",
    "recomendaciones\n"
   ]
  },
  {
   "cell_type": "markdown",
   "id": "8ab3199c",
   "metadata": {},
   "source": [
    "## Conclusión\n",
    "\n",
    "Se ha construido un motor de recomendación simple y eficiente utilizando procesamiento de texto:\n",
    "\n",
    "- Las sinopsis fueron vectorizadas con TF-IDF.\n",
    "- Se calculó la similitud entre películas usando la métrica coseno.\n",
    "- Se generaron recomendaciones exitosas a partir del título ingresado.\n",
    "\n",
    "Este sistema puede ser fácilmente ampliado para incluir otros atributos como género, actores o director.\n"
   ]
  }
 ],
 "metadata": {
  "kernelspec": {
   "display_name": "Python 3",
   "language": "python",
   "name": "python3"
  },
  "language_info": {
   "codemirror_mode": {
    "name": "ipython",
    "version": 3
   },
   "file_extension": ".py",
   "mimetype": "text/x-python",
   "name": "python",
   "nbconvert_exporter": "python",
   "pygments_lexer": "ipython3",
   "version": "3.11.3"
  }
 },
 "nbformat": 4,
 "nbformat_minor": 5
}
